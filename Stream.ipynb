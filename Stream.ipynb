{
 "metadata": {
  "language_info": {
   "codemirror_mode": {
    "name": "ipython",
    "version": 3
   },
   "file_extension": ".py",
   "mimetype": "text/x-python",
   "name": "python",
   "nbconvert_exporter": "python",
   "pygments_lexer": "ipython3",
   "version": "3.8.3-final"
  },
  "orig_nbformat": 2,
  "kernelspec": {
   "name": "python3",
   "display_name": "Python 3",
   "language": "python"
  }
 },
 "nbformat": 4,
 "nbformat_minor": 2,
 "cells": [
  {
   "cell_type": "code",
   "execution_count": 5,
   "metadata": {},
   "outputs": [],
   "source": [
    "import pandas as pd \n",
    "import streamlit as st\n"
   ]
  },
  {
   "cell_type": "code",
   "execution_count": 6,
   "metadata": {},
   "outputs": [],
   "source": [
    "st.write(\"\"\"#Stocks\n",
    "Markets\"\"\")"
   ]
  },
  {
   "cell_type": "code",
   "execution_count": 13,
   "metadata": {},
   "outputs": [],
   "source": [
    "import yfinance as yf "
   ]
  },
  {
   "cell_type": "code",
   "execution_count": 7,
   "metadata": {},
   "outputs": [
    {
     "output_type": "error",
     "ename": "NameError",
     "evalue": "name 'streamlit' is not defined",
     "traceback": [
      "\u001b[1;31m---------------------------------------------------------------------------\u001b[0m",
      "\u001b[1;31mNameError\u001b[0m                                 Traceback (most recent call last)",
      "\u001b[1;32m<ipython-input-7-af8dd4039536>\u001b[0m in \u001b[0;36m<module>\u001b[1;34m\u001b[0m\n\u001b[1;32m----> 1\u001b[1;33m \u001b[0mstreamlit\u001b[0m \u001b[1;33m-\u001b[0m\u001b[1;33m-\u001b[0m\u001b[0mhelp\u001b[0m\u001b[1;33m\u001b[0m\u001b[1;33m\u001b[0m\u001b[0m\n\u001b[0m",
      "\u001b[1;31mNameError\u001b[0m: name 'streamlit' is not defined"
     ]
    }
   ],
   "source": [
    "streamlit --help"
   ]
  },
  {
   "cell_type": "code",
   "execution_count": 8,
   "metadata": {},
   "outputs": [],
   "source": [
    "df = pd.read_html('https://finance.yahoo.com/quote/ORCL/history?p=ORCL')"
   ]
  },
  {
   "cell_type": "code",
   "execution_count": 10,
   "metadata": {},
   "outputs": [],
   "source": [
    "df = df[0]"
   ]
  },
  {
   "cell_type": "code",
   "execution_count": 14,
   "metadata": {},
   "outputs": [],
   "source": [
    " symbol = 'MSFT'\n",
    " data = yf.Ticker(symbol)\n"
   ]
  },
  {
   "cell_type": "code",
   "execution_count": 18,
   "metadata": {},
   "outputs": [
    {
     "output_type": "execute_result",
     "data": {
      "text/plain": [
       "                  Open        High         Low       Close      Volume  \\\n",
       "Date                                                                     \n",
       "1986-03-13    0.056238    0.064508    0.056238    0.061751  1031788800   \n",
       "1986-03-14    0.061751    0.065059    0.061751    0.063956   308160000   \n",
       "1986-03-17    0.063956    0.065610    0.063956    0.065059   133171200   \n",
       "1986-03-18    0.065059    0.065610    0.062853    0.063405    67766400   \n",
       "1986-03-19    0.063405    0.063956    0.061751    0.062302    47894400   \n",
       "...                ...         ...         ...         ...         ...   \n",
       "2021-03-26  231.550003  236.710007  231.550003  236.479996    25471700   \n",
       "2021-03-29  236.589996  236.800003  231.880005  235.240005    25227500   \n",
       "2021-03-30  233.529999  233.850006  231.100006  231.850006    24792000   \n",
       "2021-03-31  232.910004  239.100006  232.389999  235.770004    43623500   \n",
       "2021-04-01  238.470001  242.839996  238.050003  242.350006    30312000   \n",
       "\n",
       "            Dividends  Stock Splits  \n",
       "Date                                 \n",
       "1986-03-13        0.0           0.0  \n",
       "1986-03-14        0.0           0.0  \n",
       "1986-03-17        0.0           0.0  \n",
       "1986-03-18        0.0           0.0  \n",
       "1986-03-19        0.0           0.0  \n",
       "...               ...           ...  \n",
       "2021-03-26        0.0           0.0  \n",
       "2021-03-29        0.0           0.0  \n",
       "2021-03-30        0.0           0.0  \n",
       "2021-03-31        0.0           0.0  \n",
       "2021-04-01        0.0           0.0  \n",
       "\n",
       "[8836 rows x 7 columns]"
      ],
      "text/html": "<div>\n<style scoped>\n    .dataframe tbody tr th:only-of-type {\n        vertical-align: middle;\n    }\n\n    .dataframe tbody tr th {\n        vertical-align: top;\n    }\n\n    .dataframe thead th {\n        text-align: right;\n    }\n</style>\n<table border=\"1\" class=\"dataframe\">\n  <thead>\n    <tr style=\"text-align: right;\">\n      <th></th>\n      <th>Open</th>\n      <th>High</th>\n      <th>Low</th>\n      <th>Close</th>\n      <th>Volume</th>\n      <th>Dividends</th>\n      <th>Stock Splits</th>\n    </tr>\n    <tr>\n      <th>Date</th>\n      <th></th>\n      <th></th>\n      <th></th>\n      <th></th>\n      <th></th>\n      <th></th>\n      <th></th>\n    </tr>\n  </thead>\n  <tbody>\n    <tr>\n      <th>1986-03-13</th>\n      <td>0.056238</td>\n      <td>0.064508</td>\n      <td>0.056238</td>\n      <td>0.061751</td>\n      <td>1031788800</td>\n      <td>0.0</td>\n      <td>0.0</td>\n    </tr>\n    <tr>\n      <th>1986-03-14</th>\n      <td>0.061751</td>\n      <td>0.065059</td>\n      <td>0.061751</td>\n      <td>0.063956</td>\n      <td>308160000</td>\n      <td>0.0</td>\n      <td>0.0</td>\n    </tr>\n    <tr>\n      <th>1986-03-17</th>\n      <td>0.063956</td>\n      <td>0.065610</td>\n      <td>0.063956</td>\n      <td>0.065059</td>\n      <td>133171200</td>\n      <td>0.0</td>\n      <td>0.0</td>\n    </tr>\n    <tr>\n      <th>1986-03-18</th>\n      <td>0.065059</td>\n      <td>0.065610</td>\n      <td>0.062853</td>\n      <td>0.063405</td>\n      <td>67766400</td>\n      <td>0.0</td>\n      <td>0.0</td>\n    </tr>\n    <tr>\n      <th>1986-03-19</th>\n      <td>0.063405</td>\n      <td>0.063956</td>\n      <td>0.061751</td>\n      <td>0.062302</td>\n      <td>47894400</td>\n      <td>0.0</td>\n      <td>0.0</td>\n    </tr>\n    <tr>\n      <th>...</th>\n      <td>...</td>\n      <td>...</td>\n      <td>...</td>\n      <td>...</td>\n      <td>...</td>\n      <td>...</td>\n      <td>...</td>\n    </tr>\n    <tr>\n      <th>2021-03-26</th>\n      <td>231.550003</td>\n      <td>236.710007</td>\n      <td>231.550003</td>\n      <td>236.479996</td>\n      <td>25471700</td>\n      <td>0.0</td>\n      <td>0.0</td>\n    </tr>\n    <tr>\n      <th>2021-03-29</th>\n      <td>236.589996</td>\n      <td>236.800003</td>\n      <td>231.880005</td>\n      <td>235.240005</td>\n      <td>25227500</td>\n      <td>0.0</td>\n      <td>0.0</td>\n    </tr>\n    <tr>\n      <th>2021-03-30</th>\n      <td>233.529999</td>\n      <td>233.850006</td>\n      <td>231.100006</td>\n      <td>231.850006</td>\n      <td>24792000</td>\n      <td>0.0</td>\n      <td>0.0</td>\n    </tr>\n    <tr>\n      <th>2021-03-31</th>\n      <td>232.910004</td>\n      <td>239.100006</td>\n      <td>232.389999</td>\n      <td>235.770004</td>\n      <td>43623500</td>\n      <td>0.0</td>\n      <td>0.0</td>\n    </tr>\n    <tr>\n      <th>2021-04-01</th>\n      <td>238.470001</td>\n      <td>242.839996</td>\n      <td>238.050003</td>\n      <td>242.350006</td>\n      <td>30312000</td>\n      <td>0.0</td>\n      <td>0.0</td>\n    </tr>\n  </tbody>\n</table>\n<p>8836 rows × 7 columns</p>\n</div>"
     },
     "metadata": {},
     "execution_count": 18
    }
   ],
   "source": [
    "data.history(period=\"max\")"
   ]
  },
  {
   "cell_type": "code",
   "execution_count": 43,
   "metadata": {},
   "outputs": [],
   "source": [
    "data = yf.Ticker(symbol)\n",
    "df = data.history(period=\"1mo\",interval = '30m')\n",
    "\n",
    "\n",
    "df['exp1'] = df['Close'].ewm(span=12, adjust=False).mean()\n",
    "df['exp2'] = df['Close'].ewm(span=26, adjust=False).mean()\n",
    "df['macd'] = df['exp1']-df['exp2']\n",
    "df['exp3'] = df['macd'].ewm(span=9, adjust=False).mean()\n",
    "\n",
    "previous_15 = df['exp3'].shift(1)\n",
    "previous_45 = df['macd'].shift(1)\n",
    "Golden = df[((df['exp3'] <= df['macd']) & (previous_15 >= previous_45))].shift(-1)\n",
    "Death = df[((df['exp3'] >= df['macd']) & (previous_15 <= previous_45))].shift(-1)"
   ]
  },
  {
   "cell_type": "code",
   "execution_count": 44,
   "metadata": {},
   "outputs": [],
   "source": [
    "new = pd.DatetimeIndex(Golden.index) + pd.DateOffset(-1)"
   ]
  },
  {
   "cell_type": "code",
   "execution_count": 45,
   "metadata": {},
   "outputs": [],
   "source": [
    "Golden['Average'] = (Golden['macd'] + Golden['exp3'])/2"
   ]
  },
  {
   "cell_type": "code",
   "execution_count": 40,
   "metadata": {},
   "outputs": [
    {
     "output_type": "execute_result",
     "data": {
      "text/plain": [
       "                  Open        High         Low       Close    Volume  \\\n",
       "Date                                                                   \n",
       "2021-01-04  222.018648  222.487569  214.316387  217.189774  37130100   \n",
       "2021-01-07  213.548157  218.835981  213.218929  217.788391  27694500   \n",
       "2021-01-19  213.258821  216.481395  212.141400  215.942642  30480900   \n",
       "2021-03-15  234.960007  235.190002  231.809998  234.809998  26034900   \n",
       "2021-03-22  230.270004  236.899994  230.139999  235.990005  30127000   \n",
       "2021-03-25  235.300003  236.940002  231.570007  232.339996  34061900   \n",
       "2021-03-31  232.910004  239.100006  232.389999  235.770004  43623500   \n",
       "\n",
       "            Dividends  Stock Splits        exp1        exp2      macd  \\\n",
       "Date                                                                    \n",
       "2021-01-04        0.0             0  217.189774  217.189774  0.000000   \n",
       "2021-01-07        0.0             0  216.598408  216.875165 -0.276757   \n",
       "2021-01-19        0.0             0  215.399156  216.123740 -0.724584   \n",
       "2021-03-15        0.0             0  233.789599  233.676756  0.112843   \n",
       "2021-03-22        0.0             0  233.954381  233.849525  0.104856   \n",
       "2021-03-25        0.0             0  234.301376  234.085077  0.216299   \n",
       "2021-03-31        0.0             0  234.514652  234.270762  0.243890   \n",
       "\n",
       "                exp3  \n",
       "Date                  \n",
       "2021-01-04  0.000000  \n",
       "2021-01-07 -0.120421  \n",
       "2021-01-19 -0.435839  \n",
       "2021-03-15  0.187998  \n",
       "2021-03-22  0.192048  \n",
       "2021-03-25  0.260365  \n",
       "2021-03-31  0.265918  "
      ],
      "text/html": "<div>\n<style scoped>\n    .dataframe tbody tr th:only-of-type {\n        vertical-align: middle;\n    }\n\n    .dataframe tbody tr th {\n        vertical-align: top;\n    }\n\n    .dataframe thead th {\n        text-align: right;\n    }\n</style>\n<table border=\"1\" class=\"dataframe\">\n  <thead>\n    <tr style=\"text-align: right;\">\n      <th></th>\n      <th>Open</th>\n      <th>High</th>\n      <th>Low</th>\n      <th>Close</th>\n      <th>Volume</th>\n      <th>Dividends</th>\n      <th>Stock Splits</th>\n      <th>exp1</th>\n      <th>exp2</th>\n      <th>macd</th>\n      <th>exp3</th>\n    </tr>\n    <tr>\n      <th>Date</th>\n      <th></th>\n      <th></th>\n      <th></th>\n      <th></th>\n      <th></th>\n      <th></th>\n      <th></th>\n      <th></th>\n      <th></th>\n      <th></th>\n      <th></th>\n    </tr>\n  </thead>\n  <tbody>\n    <tr>\n      <th>2021-01-04</th>\n      <td>222.018648</td>\n      <td>222.487569</td>\n      <td>214.316387</td>\n      <td>217.189774</td>\n      <td>37130100</td>\n      <td>0.0</td>\n      <td>0</td>\n      <td>217.189774</td>\n      <td>217.189774</td>\n      <td>0.000000</td>\n      <td>0.000000</td>\n    </tr>\n    <tr>\n      <th>2021-01-07</th>\n      <td>213.548157</td>\n      <td>218.835981</td>\n      <td>213.218929</td>\n      <td>217.788391</td>\n      <td>27694500</td>\n      <td>0.0</td>\n      <td>0</td>\n      <td>216.598408</td>\n      <td>216.875165</td>\n      <td>-0.276757</td>\n      <td>-0.120421</td>\n    </tr>\n    <tr>\n      <th>2021-01-19</th>\n      <td>213.258821</td>\n      <td>216.481395</td>\n      <td>212.141400</td>\n      <td>215.942642</td>\n      <td>30480900</td>\n      <td>0.0</td>\n      <td>0</td>\n      <td>215.399156</td>\n      <td>216.123740</td>\n      <td>-0.724584</td>\n      <td>-0.435839</td>\n    </tr>\n    <tr>\n      <th>2021-03-15</th>\n      <td>234.960007</td>\n      <td>235.190002</td>\n      <td>231.809998</td>\n      <td>234.809998</td>\n      <td>26034900</td>\n      <td>0.0</td>\n      <td>0</td>\n      <td>233.789599</td>\n      <td>233.676756</td>\n      <td>0.112843</td>\n      <td>0.187998</td>\n    </tr>\n    <tr>\n      <th>2021-03-22</th>\n      <td>230.270004</td>\n      <td>236.899994</td>\n      <td>230.139999</td>\n      <td>235.990005</td>\n      <td>30127000</td>\n      <td>0.0</td>\n      <td>0</td>\n      <td>233.954381</td>\n      <td>233.849525</td>\n      <td>0.104856</td>\n      <td>0.192048</td>\n    </tr>\n    <tr>\n      <th>2021-03-25</th>\n      <td>235.300003</td>\n      <td>236.940002</td>\n      <td>231.570007</td>\n      <td>232.339996</td>\n      <td>34061900</td>\n      <td>0.0</td>\n      <td>0</td>\n      <td>234.301376</td>\n      <td>234.085077</td>\n      <td>0.216299</td>\n      <td>0.260365</td>\n    </tr>\n    <tr>\n      <th>2021-03-31</th>\n      <td>232.910004</td>\n      <td>239.100006</td>\n      <td>232.389999</td>\n      <td>235.770004</td>\n      <td>43623500</td>\n      <td>0.0</td>\n      <td>0</td>\n      <td>234.514652</td>\n      <td>234.270762</td>\n      <td>0.243890</td>\n      <td>0.265918</td>\n    </tr>\n  </tbody>\n</table>\n</div>"
     },
     "metadata": {},
     "execution_count": 40
    }
   ],
   "source": [
    "Golden  = df[df.index.isin(new)]\n",
    "df[df.index.isin(new)]"
   ]
  },
  {
   "cell_type": "code",
   "execution_count": 47,
   "metadata": {},
   "outputs": [
    {
     "output_type": "execute_result",
     "data": {
      "text/plain": [
       "Date\n",
       "2003-02-19    0.08\n",
       "2003-10-15    0.16\n",
       "2004-08-23    0.08\n",
       "2004-11-15    3.08\n",
       "2005-02-15    0.08\n",
       "              ... \n",
       "2020-02-19    0.51\n",
       "2020-05-20    0.51\n",
       "2020-08-19    0.51\n",
       "2020-11-18    0.56\n",
       "2021-02-17    0.56\n",
       "Name: Dividends, Length: 69, dtype: float64"
      ]
     },
     "metadata": {},
     "execution_count": 47
    }
   ],
   "source": [
    "data = yf.Ticker(symbol)\n",
    "#df = data.history(period=\"1mo\",interval = '30m')\n"
   ]
  },
  {
   "cell_type": "code",
   "execution_count": null,
   "metadata": {},
   "outputs": [],
   "source": [
    "data.dividends"
   ]
  },
  {
   "cell_type": "code",
   "execution_count": 49,
   "metadata": {},
   "outputs": [
    {
     "output_type": "execute_result",
     "data": {
      "text/plain": [
       "                              Holder     Shares Date Reported   % Out  \\\n",
       "0         Vanguard Group, Inc. (The)  614100233    2020-12-30  0.0814   \n",
       "1                     Blackrock Inc.  515509179    2020-12-30  0.0683   \n",
       "2           State Street Corporation  299126371    2020-12-30  0.0397   \n",
       "3                           FMR, LLC  222257473    2020-12-30  0.0295   \n",
       "4      Price (T.Rowe) Associates Inc  177500157    2020-12-30  0.0235   \n",
       "5      Geode Capital Management, LLC  117798162    2020-12-30  0.0156   \n",
       "6            Capital World Investors  110441260    2020-12-30  0.0146   \n",
       "7  Capital Research Global Investors   95506129    2020-12-30  0.0127   \n",
       "8    Capital International Investors   91995988    2020-12-30  0.0122   \n",
       "9         Northern Trust Corporation   91215100    2020-12-30  0.0121   \n",
       "\n",
       "          Value  \n",
       "0  136588173823  \n",
       "1  114659551593  \n",
       "2   66531687437  \n",
       "3   49434507144  \n",
       "4   39479584919  \n",
       "5   26200667192  \n",
       "6   24564345049  \n",
       "7   21242473212  \n",
       "8   20461747650  \n",
       "9   20288062542  "
      ],
      "text/html": "<div>\n<style scoped>\n    .dataframe tbody tr th:only-of-type {\n        vertical-align: middle;\n    }\n\n    .dataframe tbody tr th {\n        vertical-align: top;\n    }\n\n    .dataframe thead th {\n        text-align: right;\n    }\n</style>\n<table border=\"1\" class=\"dataframe\">\n  <thead>\n    <tr style=\"text-align: right;\">\n      <th></th>\n      <th>Holder</th>\n      <th>Shares</th>\n      <th>Date Reported</th>\n      <th>% Out</th>\n      <th>Value</th>\n    </tr>\n  </thead>\n  <tbody>\n    <tr>\n      <th>0</th>\n      <td>Vanguard Group, Inc. (The)</td>\n      <td>614100233</td>\n      <td>2020-12-30</td>\n      <td>0.0814</td>\n      <td>136588173823</td>\n    </tr>\n    <tr>\n      <th>1</th>\n      <td>Blackrock Inc.</td>\n      <td>515509179</td>\n      <td>2020-12-30</td>\n      <td>0.0683</td>\n      <td>114659551593</td>\n    </tr>\n    <tr>\n      <th>2</th>\n      <td>State Street Corporation</td>\n      <td>299126371</td>\n      <td>2020-12-30</td>\n      <td>0.0397</td>\n      <td>66531687437</td>\n    </tr>\n    <tr>\n      <th>3</th>\n      <td>FMR, LLC</td>\n      <td>222257473</td>\n      <td>2020-12-30</td>\n      <td>0.0295</td>\n      <td>49434507144</td>\n    </tr>\n    <tr>\n      <th>4</th>\n      <td>Price (T.Rowe) Associates Inc</td>\n      <td>177500157</td>\n      <td>2020-12-30</td>\n      <td>0.0235</td>\n      <td>39479584919</td>\n    </tr>\n    <tr>\n      <th>5</th>\n      <td>Geode Capital Management, LLC</td>\n      <td>117798162</td>\n      <td>2020-12-30</td>\n      <td>0.0156</td>\n      <td>26200667192</td>\n    </tr>\n    <tr>\n      <th>6</th>\n      <td>Capital World Investors</td>\n      <td>110441260</td>\n      <td>2020-12-30</td>\n      <td>0.0146</td>\n      <td>24564345049</td>\n    </tr>\n    <tr>\n      <th>7</th>\n      <td>Capital Research Global Investors</td>\n      <td>95506129</td>\n      <td>2020-12-30</td>\n      <td>0.0127</td>\n      <td>21242473212</td>\n    </tr>\n    <tr>\n      <th>8</th>\n      <td>Capital International Investors</td>\n      <td>91995988</td>\n      <td>2020-12-30</td>\n      <td>0.0122</td>\n      <td>20461747650</td>\n    </tr>\n    <tr>\n      <th>9</th>\n      <td>Northern Trust Corporation</td>\n      <td>91215100</td>\n      <td>2020-12-30</td>\n      <td>0.0121</td>\n      <td>20288062542</td>\n    </tr>\n  </tbody>\n</table>\n</div>"
     },
     "metadata": {},
     "execution_count": 49
    }
   ],
   "source": [
    "data.institutional_holders"
   ]
  },
  {
   "cell_type": "code",
   "execution_count": 53,
   "metadata": {},
   "outputs": [
    {
     "output_type": "execute_result",
     "data": {
      "text/plain": [
       "('2021-04-09',\n",
       " '2021-04-16',\n",
       " '2021-04-23',\n",
       " '2021-04-30',\n",
       " '2021-05-07',\n",
       " '2021-05-21',\n",
       " '2021-06-18',\n",
       " '2021-07-16',\n",
       " '2021-08-20',\n",
       " '2021-09-17',\n",
       " '2021-10-15',\n",
       " '2022-01-21',\n",
       " '2022-03-18',\n",
       " '2022-06-17',\n",
       " '2022-09-16',\n",
       " '2023-01-20',\n",
       " '2023-03-17',\n",
       " '2023-06-16')"
      ]
     },
     "metadata": {},
     "execution_count": 53
    }
   ],
   "source": [
    "data.options"
   ]
  },
  {
   "cell_type": "code",
   "execution_count": 59,
   "metadata": {},
   "outputs": [
    {
     "output_type": "execute_result",
     "data": {
      "text/plain": [
       "         contractSymbol       lastTradeDate  strike  lastPrice     bid  \\\n",
       "0   MSFT230616P00115000 2021-04-01 19:32:50   115.0       3.13    2.20   \n",
       "1   MSFT230616P00120000 2021-04-01 18:19:37   120.0       3.64    2.89   \n",
       "2   MSFT230616P00125000 2021-03-29 19:43:09   125.0       4.70    1.50   \n",
       "3   MSFT230616P00130000 2021-03-24 13:57:29   130.0       5.20    2.00   \n",
       "4   MSFT230616P00135000 2021-03-22 15:09:36   135.0       6.80    3.90   \n",
       "5   MSFT230616P00150000 2021-04-01 19:32:50   150.0       7.52    5.00   \n",
       "6   MSFT230616P00155000 2021-03-31 14:39:04   155.0       9.90    5.80   \n",
       "7   MSFT230616P00160000 2021-03-24 17:44:08   160.0      11.10    7.80   \n",
       "8   MSFT230616P00165000 2021-03-18 19:40:03   165.0      13.92    7.50   \n",
       "9   MSFT230616P00170000 2021-04-01 14:59:34   170.0      11.90   10.05   \n",
       "10  MSFT230616P00175000 2021-03-31 15:30:55   175.0      14.60   10.05   \n",
       "11  MSFT230616P00180000 2021-03-31 16:20:56   180.0      14.40   13.00   \n",
       "12  MSFT230616P00185000 2021-03-22 13:43:31   185.0      18.50   13.20   \n",
       "13  MSFT230616P00190000 2021-04-01 15:15:34   190.0      17.60   14.60   \n",
       "14  MSFT230616P00195000 2021-03-31 16:20:56   195.0      21.23   16.25   \n",
       "15  MSFT230616P00200000 2021-04-01 19:38:12   200.0      20.74   18.00   \n",
       "16  MSFT230616P00205000 2021-04-01 19:38:12   205.0      22.77   19.50   \n",
       "17  MSFT230616P00210000 2021-03-30 18:38:47   210.0      28.00   21.50   \n",
       "18  MSFT230616P00215000 2021-04-01 14:06:33   215.0      26.80   23.80   \n",
       "19  MSFT230616P00220000 2021-04-01 19:45:10   220.0      28.59   26.55   \n",
       "20  MSFT230616P00225000 2021-03-31 17:14:53   225.0      33.95   28.05   \n",
       "21  MSFT230616P00230000 2021-03-31 15:00:06   230.0      35.75   30.50   \n",
       "22  MSFT230616P00235000 2021-03-31 17:14:26   235.0      36.25   32.60   \n",
       "23  MSFT230616P00240000 2021-04-01 19:49:46   240.0      38.30   35.50   \n",
       "24  MSFT230616P00245000 2021-03-19 13:30:04   245.0      48.92   38.00   \n",
       "25  MSFT230616P00250000 2021-04-01 18:36:47   250.0      43.50   40.55   \n",
       "26  MSFT230616P00255000 2021-03-29 04:02:11   255.0      50.00   43.50   \n",
       "27  MSFT230616P00260000 2021-03-16 16:01:35   260.0      54.20   47.00   \n",
       "28  MSFT230616P00265000 2021-03-23 15:07:48   265.0      55.30   49.50   \n",
       "29  MSFT230616P00270000 2021-03-16 15:44:38   270.0      60.45   52.50   \n",
       "30  MSFT230616P00275000 2021-03-30 16:27:34   275.0      66.35   56.00   \n",
       "31  MSFT230616P00280000 2021-04-01 19:49:46   280.0      62.48   59.50   \n",
       "32  MSFT230616P00290000 2021-03-22 19:17:28   290.0      71.60   66.00   \n",
       "33  MSFT230616P00295000 2021-03-19 13:30:04   295.0      82.84   70.00   \n",
       "34  MSFT230616P00300000 2021-03-30 15:58:03   300.0      84.23   73.50   \n",
       "35  MSFT230616P00305000 2021-03-24 18:19:43   305.0      85.45   77.00   \n",
       "36  MSFT230616P00320000 2021-03-17 18:48:18   320.0      98.00   90.00   \n",
       "37  MSFT230616P00325000 2021-03-16 15:37:48   325.0     100.75   94.00   \n",
       "38  MSFT230616P00340000 2021-03-16 15:32:25   340.0     112.80  106.00   \n",
       "39  MSFT230616P00345000 2021-03-19 13:30:04   345.0     123.87  110.50   \n",
       "40  MSFT230616P00350000 2021-04-01 19:49:46   350.0     117.19  115.00   \n",
       "\n",
       "       ask    change  percentChange  volume  openInterest  impliedVolatility  \\\n",
       "0     3.70 -0.670000     -17.631575    70.0            65           0.372901   \n",
       "1     3.75 -0.460000     -11.219507    17.0             2           0.356025   \n",
       "2     6.00  0.000000       0.000000   200.0            88           0.386939   \n",
       "3     7.00  0.000000       0.000000     NaN            11           0.386694   \n",
       "4     6.20  0.000000       0.000000     3.0             3           0.354010   \n",
       "5     9.50 -1.480000     -16.444445    10.0             3           0.352515   \n",
       "6    10.50  0.000000       0.000000     3.0            13           0.348212   \n",
       "7    10.55  0.000000       0.000000     2.0            10           0.331275   \n",
       "8    12.35  0.000000       0.000000     NaN            11           0.335685   \n",
       "9    13.00 -2.300000     -16.197186     5.0           912           0.325599   \n",
       "10   15.00  0.000000       0.000000     1.0             9           0.329734   \n",
       "11   14.90 -1.770001     -10.946199    20.0            19           0.311149   \n",
       "12   17.50  0.000000       0.000000    10.0            12           0.319358   \n",
       "13   19.50 -3.299999     -15.789470     1.0             0           0.320274   \n",
       "14   21.00  0.000000       0.000000     1.0             2           0.315726   \n",
       "15   22.50 -1.860001      -8.230091    11.0           166           0.310600   \n",
       "16   24.50 -1.949999      -7.888345     1.0            61           0.309089   \n",
       "17   26.50  0.000000       0.000000   100.0           105           0.306815   \n",
       "18   28.50 -4.600000     -14.649683     2.0            22           0.303855   \n",
       "19   30.50 -4.490002     -13.573161   120.0            32           0.300239   \n",
       "20   33.00  0.000000       0.000000     2.0            78           0.299796   \n",
       "21   35.00  0.000000       0.000000     2.0            27           0.294929   \n",
       "22   37.50 -2.049999      -5.352479     1.0           127           0.293144   \n",
       "23   40.00 -5.650002     -12.855521   160.0            29           0.290718   \n",
       "24   43.00  0.000000       0.000000     1.0            13           0.291236   \n",
       "25   45.50 -8.360001     -16.120325     1.0            31           0.287574   \n",
       "26   48.50  0.000000       0.000000     NaN             1           0.286827   \n",
       "27   52.00  0.000000       0.000000     NaN             0           0.288978   \n",
       "28   54.50  0.000000       0.000000     NaN            39           0.283561   \n",
       "29   57.50  0.000000       0.000000     NaN             1           0.281074   \n",
       "30   61.00  0.000000       0.000000     2.0             8           0.281517   \n",
       "31   64.25 -5.020001      -7.437037   157.0           200           0.279655   \n",
       "32   71.00  0.000000       0.000000    12.0            14           0.276100   \n",
       "33   74.90  0.000000       0.000000     2.0             3           0.277320   \n",
       "34   78.50  0.000000       0.000000     1.0            15           0.275901   \n",
       "35   82.00  0.000000       0.000000     2.0             1           0.273231   \n",
       "36   94.00  0.000000       0.000000     NaN             2           0.273689   \n",
       "37   98.00  0.000000       0.000000     NaN             1           0.273002   \n",
       "38  110.50  0.000000       0.000000     NaN             1           0.272560   \n",
       "39  114.50  0.000000       0.000000     1.0             3           0.270179   \n",
       "40  119.00 -6.509995      -5.262728   158.0            59           0.271797   \n",
       "\n",
       "    inTheMoney contractSize currency  \n",
       "0        False      REGULAR      USD  \n",
       "1        False      REGULAR      USD  \n",
       "2        False      REGULAR      USD  \n",
       "3        False      REGULAR      USD  \n",
       "4        False      REGULAR      USD  \n",
       "5        False      REGULAR      USD  \n",
       "6        False      REGULAR      USD  \n",
       "7        False      REGULAR      USD  \n",
       "8        False      REGULAR      USD  \n",
       "9        False      REGULAR      USD  \n",
       "10       False      REGULAR      USD  \n",
       "11       False      REGULAR      USD  \n",
       "12       False      REGULAR      USD  \n",
       "13       False      REGULAR      USD  \n",
       "14       False      REGULAR      USD  \n",
       "15       False      REGULAR      USD  \n",
       "16       False      REGULAR      USD  \n",
       "17       False      REGULAR      USD  \n",
       "18       False      REGULAR      USD  \n",
       "19       False      REGULAR      USD  \n",
       "20       False      REGULAR      USD  \n",
       "21       False      REGULAR      USD  \n",
       "22       False      REGULAR      USD  \n",
       "23       False      REGULAR      USD  \n",
       "24        True      REGULAR      USD  \n",
       "25        True      REGULAR      USD  \n",
       "26        True      REGULAR      USD  \n",
       "27        True      REGULAR      USD  \n",
       "28        True      REGULAR      USD  \n",
       "29        True      REGULAR      USD  \n",
       "30        True      REGULAR      USD  \n",
       "31        True      REGULAR      USD  \n",
       "32        True      REGULAR      USD  \n",
       "33        True      REGULAR      USD  \n",
       "34        True      REGULAR      USD  \n",
       "35        True      REGULAR      USD  \n",
       "36        True      REGULAR      USD  \n",
       "37        True      REGULAR      USD  \n",
       "38        True      REGULAR      USD  \n",
       "39        True      REGULAR      USD  \n",
       "40        True      REGULAR      USD  "
      ],
      "text/html": "<div>\n<style scoped>\n    .dataframe tbody tr th:only-of-type {\n        vertical-align: middle;\n    }\n\n    .dataframe tbody tr th {\n        vertical-align: top;\n    }\n\n    .dataframe thead th {\n        text-align: right;\n    }\n</style>\n<table border=\"1\" class=\"dataframe\">\n  <thead>\n    <tr style=\"text-align: right;\">\n      <th></th>\n      <th>contractSymbol</th>\n      <th>lastTradeDate</th>\n      <th>strike</th>\n      <th>lastPrice</th>\n      <th>bid</th>\n      <th>ask</th>\n      <th>change</th>\n      <th>percentChange</th>\n      <th>volume</th>\n      <th>openInterest</th>\n      <th>impliedVolatility</th>\n      <th>inTheMoney</th>\n      <th>contractSize</th>\n      <th>currency</th>\n    </tr>\n  </thead>\n  <tbody>\n    <tr>\n      <th>0</th>\n      <td>MSFT230616P00115000</td>\n      <td>2021-04-01 19:32:50</td>\n      <td>115.0</td>\n      <td>3.13</td>\n      <td>2.20</td>\n      <td>3.70</td>\n      <td>-0.670000</td>\n      <td>-17.631575</td>\n      <td>70.0</td>\n      <td>65</td>\n      <td>0.372901</td>\n      <td>False</td>\n      <td>REGULAR</td>\n      <td>USD</td>\n    </tr>\n    <tr>\n      <th>1</th>\n      <td>MSFT230616P00120000</td>\n      <td>2021-04-01 18:19:37</td>\n      <td>120.0</td>\n      <td>3.64</td>\n      <td>2.89</td>\n      <td>3.75</td>\n      <td>-0.460000</td>\n      <td>-11.219507</td>\n      <td>17.0</td>\n      <td>2</td>\n      <td>0.356025</td>\n      <td>False</td>\n      <td>REGULAR</td>\n      <td>USD</td>\n    </tr>\n    <tr>\n      <th>2</th>\n      <td>MSFT230616P00125000</td>\n      <td>2021-03-29 19:43:09</td>\n      <td>125.0</td>\n      <td>4.70</td>\n      <td>1.50</td>\n      <td>6.00</td>\n      <td>0.000000</td>\n      <td>0.000000</td>\n      <td>200.0</td>\n      <td>88</td>\n      <td>0.386939</td>\n      <td>False</td>\n      <td>REGULAR</td>\n      <td>USD</td>\n    </tr>\n    <tr>\n      <th>3</th>\n      <td>MSFT230616P00130000</td>\n      <td>2021-03-24 13:57:29</td>\n      <td>130.0</td>\n      <td>5.20</td>\n      <td>2.00</td>\n      <td>7.00</td>\n      <td>0.000000</td>\n      <td>0.000000</td>\n      <td>NaN</td>\n      <td>11</td>\n      <td>0.386694</td>\n      <td>False</td>\n      <td>REGULAR</td>\n      <td>USD</td>\n    </tr>\n    <tr>\n      <th>4</th>\n      <td>MSFT230616P00135000</td>\n      <td>2021-03-22 15:09:36</td>\n      <td>135.0</td>\n      <td>6.80</td>\n      <td>3.90</td>\n      <td>6.20</td>\n      <td>0.000000</td>\n      <td>0.000000</td>\n      <td>3.0</td>\n      <td>3</td>\n      <td>0.354010</td>\n      <td>False</td>\n      <td>REGULAR</td>\n      <td>USD</td>\n    </tr>\n    <tr>\n      <th>5</th>\n      <td>MSFT230616P00150000</td>\n      <td>2021-04-01 19:32:50</td>\n      <td>150.0</td>\n      <td>7.52</td>\n      <td>5.00</td>\n      <td>9.50</td>\n      <td>-1.480000</td>\n      <td>-16.444445</td>\n      <td>10.0</td>\n      <td>3</td>\n      <td>0.352515</td>\n      <td>False</td>\n      <td>REGULAR</td>\n      <td>USD</td>\n    </tr>\n    <tr>\n      <th>6</th>\n      <td>MSFT230616P00155000</td>\n      <td>2021-03-31 14:39:04</td>\n      <td>155.0</td>\n      <td>9.90</td>\n      <td>5.80</td>\n      <td>10.50</td>\n      <td>0.000000</td>\n      <td>0.000000</td>\n      <td>3.0</td>\n      <td>13</td>\n      <td>0.348212</td>\n      <td>False</td>\n      <td>REGULAR</td>\n      <td>USD</td>\n    </tr>\n    <tr>\n      <th>7</th>\n      <td>MSFT230616P00160000</td>\n      <td>2021-03-24 17:44:08</td>\n      <td>160.0</td>\n      <td>11.10</td>\n      <td>7.80</td>\n      <td>10.55</td>\n      <td>0.000000</td>\n      <td>0.000000</td>\n      <td>2.0</td>\n      <td>10</td>\n      <td>0.331275</td>\n      <td>False</td>\n      <td>REGULAR</td>\n      <td>USD</td>\n    </tr>\n    <tr>\n      <th>8</th>\n      <td>MSFT230616P00165000</td>\n      <td>2021-03-18 19:40:03</td>\n      <td>165.0</td>\n      <td>13.92</td>\n      <td>7.50</td>\n      <td>12.35</td>\n      <td>0.000000</td>\n      <td>0.000000</td>\n      <td>NaN</td>\n      <td>11</td>\n      <td>0.335685</td>\n      <td>False</td>\n      <td>REGULAR</td>\n      <td>USD</td>\n    </tr>\n    <tr>\n      <th>9</th>\n      <td>MSFT230616P00170000</td>\n      <td>2021-04-01 14:59:34</td>\n      <td>170.0</td>\n      <td>11.90</td>\n      <td>10.05</td>\n      <td>13.00</td>\n      <td>-2.300000</td>\n      <td>-16.197186</td>\n      <td>5.0</td>\n      <td>912</td>\n      <td>0.325599</td>\n      <td>False</td>\n      <td>REGULAR</td>\n      <td>USD</td>\n    </tr>\n    <tr>\n      <th>10</th>\n      <td>MSFT230616P00175000</td>\n      <td>2021-03-31 15:30:55</td>\n      <td>175.0</td>\n      <td>14.60</td>\n      <td>10.05</td>\n      <td>15.00</td>\n      <td>0.000000</td>\n      <td>0.000000</td>\n      <td>1.0</td>\n      <td>9</td>\n      <td>0.329734</td>\n      <td>False</td>\n      <td>REGULAR</td>\n      <td>USD</td>\n    </tr>\n    <tr>\n      <th>11</th>\n      <td>MSFT230616P00180000</td>\n      <td>2021-03-31 16:20:56</td>\n      <td>180.0</td>\n      <td>14.40</td>\n      <td>13.00</td>\n      <td>14.90</td>\n      <td>-1.770001</td>\n      <td>-10.946199</td>\n      <td>20.0</td>\n      <td>19</td>\n      <td>0.311149</td>\n      <td>False</td>\n      <td>REGULAR</td>\n      <td>USD</td>\n    </tr>\n    <tr>\n      <th>12</th>\n      <td>MSFT230616P00185000</td>\n      <td>2021-03-22 13:43:31</td>\n      <td>185.0</td>\n      <td>18.50</td>\n      <td>13.20</td>\n      <td>17.50</td>\n      <td>0.000000</td>\n      <td>0.000000</td>\n      <td>10.0</td>\n      <td>12</td>\n      <td>0.319358</td>\n      <td>False</td>\n      <td>REGULAR</td>\n      <td>USD</td>\n    </tr>\n    <tr>\n      <th>13</th>\n      <td>MSFT230616P00190000</td>\n      <td>2021-04-01 15:15:34</td>\n      <td>190.0</td>\n      <td>17.60</td>\n      <td>14.60</td>\n      <td>19.50</td>\n      <td>-3.299999</td>\n      <td>-15.789470</td>\n      <td>1.0</td>\n      <td>0</td>\n      <td>0.320274</td>\n      <td>False</td>\n      <td>REGULAR</td>\n      <td>USD</td>\n    </tr>\n    <tr>\n      <th>14</th>\n      <td>MSFT230616P00195000</td>\n      <td>2021-03-31 16:20:56</td>\n      <td>195.0</td>\n      <td>21.23</td>\n      <td>16.25</td>\n      <td>21.00</td>\n      <td>0.000000</td>\n      <td>0.000000</td>\n      <td>1.0</td>\n      <td>2</td>\n      <td>0.315726</td>\n      <td>False</td>\n      <td>REGULAR</td>\n      <td>USD</td>\n    </tr>\n    <tr>\n      <th>15</th>\n      <td>MSFT230616P00200000</td>\n      <td>2021-04-01 19:38:12</td>\n      <td>200.0</td>\n      <td>20.74</td>\n      <td>18.00</td>\n      <td>22.50</td>\n      <td>-1.860001</td>\n      <td>-8.230091</td>\n      <td>11.0</td>\n      <td>166</td>\n      <td>0.310600</td>\n      <td>False</td>\n      <td>REGULAR</td>\n      <td>USD</td>\n    </tr>\n    <tr>\n      <th>16</th>\n      <td>MSFT230616P00205000</td>\n      <td>2021-04-01 19:38:12</td>\n      <td>205.0</td>\n      <td>22.77</td>\n      <td>19.50</td>\n      <td>24.50</td>\n      <td>-1.949999</td>\n      <td>-7.888345</td>\n      <td>1.0</td>\n      <td>61</td>\n      <td>0.309089</td>\n      <td>False</td>\n      <td>REGULAR</td>\n      <td>USD</td>\n    </tr>\n    <tr>\n      <th>17</th>\n      <td>MSFT230616P00210000</td>\n      <td>2021-03-30 18:38:47</td>\n      <td>210.0</td>\n      <td>28.00</td>\n      <td>21.50</td>\n      <td>26.50</td>\n      <td>0.000000</td>\n      <td>0.000000</td>\n      <td>100.0</td>\n      <td>105</td>\n      <td>0.306815</td>\n      <td>False</td>\n      <td>REGULAR</td>\n      <td>USD</td>\n    </tr>\n    <tr>\n      <th>18</th>\n      <td>MSFT230616P00215000</td>\n      <td>2021-04-01 14:06:33</td>\n      <td>215.0</td>\n      <td>26.80</td>\n      <td>23.80</td>\n      <td>28.50</td>\n      <td>-4.600000</td>\n      <td>-14.649683</td>\n      <td>2.0</td>\n      <td>22</td>\n      <td>0.303855</td>\n      <td>False</td>\n      <td>REGULAR</td>\n      <td>USD</td>\n    </tr>\n    <tr>\n      <th>19</th>\n      <td>MSFT230616P00220000</td>\n      <td>2021-04-01 19:45:10</td>\n      <td>220.0</td>\n      <td>28.59</td>\n      <td>26.55</td>\n      <td>30.50</td>\n      <td>-4.490002</td>\n      <td>-13.573161</td>\n      <td>120.0</td>\n      <td>32</td>\n      <td>0.300239</td>\n      <td>False</td>\n      <td>REGULAR</td>\n      <td>USD</td>\n    </tr>\n    <tr>\n      <th>20</th>\n      <td>MSFT230616P00225000</td>\n      <td>2021-03-31 17:14:53</td>\n      <td>225.0</td>\n      <td>33.95</td>\n      <td>28.05</td>\n      <td>33.00</td>\n      <td>0.000000</td>\n      <td>0.000000</td>\n      <td>2.0</td>\n      <td>78</td>\n      <td>0.299796</td>\n      <td>False</td>\n      <td>REGULAR</td>\n      <td>USD</td>\n    </tr>\n    <tr>\n      <th>21</th>\n      <td>MSFT230616P00230000</td>\n      <td>2021-03-31 15:00:06</td>\n      <td>230.0</td>\n      <td>35.75</td>\n      <td>30.50</td>\n      <td>35.00</td>\n      <td>0.000000</td>\n      <td>0.000000</td>\n      <td>2.0</td>\n      <td>27</td>\n      <td>0.294929</td>\n      <td>False</td>\n      <td>REGULAR</td>\n      <td>USD</td>\n    </tr>\n    <tr>\n      <th>22</th>\n      <td>MSFT230616P00235000</td>\n      <td>2021-03-31 17:14:26</td>\n      <td>235.0</td>\n      <td>36.25</td>\n      <td>32.60</td>\n      <td>37.50</td>\n      <td>-2.049999</td>\n      <td>-5.352479</td>\n      <td>1.0</td>\n      <td>127</td>\n      <td>0.293144</td>\n      <td>False</td>\n      <td>REGULAR</td>\n      <td>USD</td>\n    </tr>\n    <tr>\n      <th>23</th>\n      <td>MSFT230616P00240000</td>\n      <td>2021-04-01 19:49:46</td>\n      <td>240.0</td>\n      <td>38.30</td>\n      <td>35.50</td>\n      <td>40.00</td>\n      <td>-5.650002</td>\n      <td>-12.855521</td>\n      <td>160.0</td>\n      <td>29</td>\n      <td>0.290718</td>\n      <td>False</td>\n      <td>REGULAR</td>\n      <td>USD</td>\n    </tr>\n    <tr>\n      <th>24</th>\n      <td>MSFT230616P00245000</td>\n      <td>2021-03-19 13:30:04</td>\n      <td>245.0</td>\n      <td>48.92</td>\n      <td>38.00</td>\n      <td>43.00</td>\n      <td>0.000000</td>\n      <td>0.000000</td>\n      <td>1.0</td>\n      <td>13</td>\n      <td>0.291236</td>\n      <td>True</td>\n      <td>REGULAR</td>\n      <td>USD</td>\n    </tr>\n    <tr>\n      <th>25</th>\n      <td>MSFT230616P00250000</td>\n      <td>2021-04-01 18:36:47</td>\n      <td>250.0</td>\n      <td>43.50</td>\n      <td>40.55</td>\n      <td>45.50</td>\n      <td>-8.360001</td>\n      <td>-16.120325</td>\n      <td>1.0</td>\n      <td>31</td>\n      <td>0.287574</td>\n      <td>True</td>\n      <td>REGULAR</td>\n      <td>USD</td>\n    </tr>\n    <tr>\n      <th>26</th>\n      <td>MSFT230616P00255000</td>\n      <td>2021-03-29 04:02:11</td>\n      <td>255.0</td>\n      <td>50.00</td>\n      <td>43.50</td>\n      <td>48.50</td>\n      <td>0.000000</td>\n      <td>0.000000</td>\n      <td>NaN</td>\n      <td>1</td>\n      <td>0.286827</td>\n      <td>True</td>\n      <td>REGULAR</td>\n      <td>USD</td>\n    </tr>\n    <tr>\n      <th>27</th>\n      <td>MSFT230616P00260000</td>\n      <td>2021-03-16 16:01:35</td>\n      <td>260.0</td>\n      <td>54.20</td>\n      <td>47.00</td>\n      <td>52.00</td>\n      <td>0.000000</td>\n      <td>0.000000</td>\n      <td>NaN</td>\n      <td>0</td>\n      <td>0.288978</td>\n      <td>True</td>\n      <td>REGULAR</td>\n      <td>USD</td>\n    </tr>\n    <tr>\n      <th>28</th>\n      <td>MSFT230616P00265000</td>\n      <td>2021-03-23 15:07:48</td>\n      <td>265.0</td>\n      <td>55.30</td>\n      <td>49.50</td>\n      <td>54.50</td>\n      <td>0.000000</td>\n      <td>0.000000</td>\n      <td>NaN</td>\n      <td>39</td>\n      <td>0.283561</td>\n      <td>True</td>\n      <td>REGULAR</td>\n      <td>USD</td>\n    </tr>\n    <tr>\n      <th>29</th>\n      <td>MSFT230616P00270000</td>\n      <td>2021-03-16 15:44:38</td>\n      <td>270.0</td>\n      <td>60.45</td>\n      <td>52.50</td>\n      <td>57.50</td>\n      <td>0.000000</td>\n      <td>0.000000</td>\n      <td>NaN</td>\n      <td>1</td>\n      <td>0.281074</td>\n      <td>True</td>\n      <td>REGULAR</td>\n      <td>USD</td>\n    </tr>\n    <tr>\n      <th>30</th>\n      <td>MSFT230616P00275000</td>\n      <td>2021-03-30 16:27:34</td>\n      <td>275.0</td>\n      <td>66.35</td>\n      <td>56.00</td>\n      <td>61.00</td>\n      <td>0.000000</td>\n      <td>0.000000</td>\n      <td>2.0</td>\n      <td>8</td>\n      <td>0.281517</td>\n      <td>True</td>\n      <td>REGULAR</td>\n      <td>USD</td>\n    </tr>\n    <tr>\n      <th>31</th>\n      <td>MSFT230616P00280000</td>\n      <td>2021-04-01 19:49:46</td>\n      <td>280.0</td>\n      <td>62.48</td>\n      <td>59.50</td>\n      <td>64.25</td>\n      <td>-5.020001</td>\n      <td>-7.437037</td>\n      <td>157.0</td>\n      <td>200</td>\n      <td>0.279655</td>\n      <td>True</td>\n      <td>REGULAR</td>\n      <td>USD</td>\n    </tr>\n    <tr>\n      <th>32</th>\n      <td>MSFT230616P00290000</td>\n      <td>2021-03-22 19:17:28</td>\n      <td>290.0</td>\n      <td>71.60</td>\n      <td>66.00</td>\n      <td>71.00</td>\n      <td>0.000000</td>\n      <td>0.000000</td>\n      <td>12.0</td>\n      <td>14</td>\n      <td>0.276100</td>\n      <td>True</td>\n      <td>REGULAR</td>\n      <td>USD</td>\n    </tr>\n    <tr>\n      <th>33</th>\n      <td>MSFT230616P00295000</td>\n      <td>2021-03-19 13:30:04</td>\n      <td>295.0</td>\n      <td>82.84</td>\n      <td>70.00</td>\n      <td>74.90</td>\n      <td>0.000000</td>\n      <td>0.000000</td>\n      <td>2.0</td>\n      <td>3</td>\n      <td>0.277320</td>\n      <td>True</td>\n      <td>REGULAR</td>\n      <td>USD</td>\n    </tr>\n    <tr>\n      <th>34</th>\n      <td>MSFT230616P00300000</td>\n      <td>2021-03-30 15:58:03</td>\n      <td>300.0</td>\n      <td>84.23</td>\n      <td>73.50</td>\n      <td>78.50</td>\n      <td>0.000000</td>\n      <td>0.000000</td>\n      <td>1.0</td>\n      <td>15</td>\n      <td>0.275901</td>\n      <td>True</td>\n      <td>REGULAR</td>\n      <td>USD</td>\n    </tr>\n    <tr>\n      <th>35</th>\n      <td>MSFT230616P00305000</td>\n      <td>2021-03-24 18:19:43</td>\n      <td>305.0</td>\n      <td>85.45</td>\n      <td>77.00</td>\n      <td>82.00</td>\n      <td>0.000000</td>\n      <td>0.000000</td>\n      <td>2.0</td>\n      <td>1</td>\n      <td>0.273231</td>\n      <td>True</td>\n      <td>REGULAR</td>\n      <td>USD</td>\n    </tr>\n    <tr>\n      <th>36</th>\n      <td>MSFT230616P00320000</td>\n      <td>2021-03-17 18:48:18</td>\n      <td>320.0</td>\n      <td>98.00</td>\n      <td>90.00</td>\n      <td>94.00</td>\n      <td>0.000000</td>\n      <td>0.000000</td>\n      <td>NaN</td>\n      <td>2</td>\n      <td>0.273689</td>\n      <td>True</td>\n      <td>REGULAR</td>\n      <td>USD</td>\n    </tr>\n    <tr>\n      <th>37</th>\n      <td>MSFT230616P00325000</td>\n      <td>2021-03-16 15:37:48</td>\n      <td>325.0</td>\n      <td>100.75</td>\n      <td>94.00</td>\n      <td>98.00</td>\n      <td>0.000000</td>\n      <td>0.000000</td>\n      <td>NaN</td>\n      <td>1</td>\n      <td>0.273002</td>\n      <td>True</td>\n      <td>REGULAR</td>\n      <td>USD</td>\n    </tr>\n    <tr>\n      <th>38</th>\n      <td>MSFT230616P00340000</td>\n      <td>2021-03-16 15:32:25</td>\n      <td>340.0</td>\n      <td>112.80</td>\n      <td>106.00</td>\n      <td>110.50</td>\n      <td>0.000000</td>\n      <td>0.000000</td>\n      <td>NaN</td>\n      <td>1</td>\n      <td>0.272560</td>\n      <td>True</td>\n      <td>REGULAR</td>\n      <td>USD</td>\n    </tr>\n    <tr>\n      <th>39</th>\n      <td>MSFT230616P00345000</td>\n      <td>2021-03-19 13:30:04</td>\n      <td>345.0</td>\n      <td>123.87</td>\n      <td>110.50</td>\n      <td>114.50</td>\n      <td>0.000000</td>\n      <td>0.000000</td>\n      <td>1.0</td>\n      <td>3</td>\n      <td>0.270179</td>\n      <td>True</td>\n      <td>REGULAR</td>\n      <td>USD</td>\n    </tr>\n    <tr>\n      <th>40</th>\n      <td>MSFT230616P00350000</td>\n      <td>2021-04-01 19:49:46</td>\n      <td>350.0</td>\n      <td>117.19</td>\n      <td>115.00</td>\n      <td>119.00</td>\n      <td>-6.509995</td>\n      <td>-5.262728</td>\n      <td>158.0</td>\n      <td>59</td>\n      <td>0.271797</td>\n      <td>True</td>\n      <td>REGULAR</td>\n      <td>USD</td>\n    </tr>\n  </tbody>\n</table>\n</div>"
     },
     "metadata": {},
     "execution_count": 59
    }
   ],
   "source": [
    "data.option_chain('2023-06-16')[1]"
   ]
  },
  {
   "cell_type": "code",
   "execution_count": null,
   "metadata": {},
   "outputs": [],
   "source": []
  }
 ]
}