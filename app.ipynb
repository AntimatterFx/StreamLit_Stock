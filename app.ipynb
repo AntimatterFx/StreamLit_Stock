symbol = st.sidebar.text_input("Symbol", value='MSFT', max_chars=None, key=None, type='default')
        data = yf.Ticker(symbol)
        fin = finviz.get_stock(symbol)
        div = data.dividends
        div = div.T